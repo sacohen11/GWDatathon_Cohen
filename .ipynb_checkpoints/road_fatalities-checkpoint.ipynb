{
 "cells": [
  {
   "cell_type": "markdown",
   "metadata": {
    "collapsed": true,
    "pycharm": {
     "is_executing": false
    }
   },
   "source": [
    "# Understanding Road Fatalities from District of Columbia Crash Data\n",
    "\n",
    "#### Samuel Cohen\n"
   ]
  },
  {
   "cell_type": "markdown",
   "metadata": {},
   "source": [
    "## Abstract"
   ]
  },
  {
   "cell_type": "markdown",
   "metadata": {},
   "source": [
    "Road safety is a major issue for all municipalities in the US, given that 36,096 people died in road accidents in 2019, according to the National Highway Traffic Safety Administration (NHTSA) [1]. This study analyzes the Metropolitan Police Department's (MPD) crash data management system (COBALT) open data on driver fatalities in DC. We identify some of the key characteristics that contribute to automobile and pedestrian fatalities and safety. Based on our analysis, the factors that increase the risk of fatalities in road accidents are the presence of speeding, pedestrians, and non-traditional vehicles. The factors that decrease the risk of fatalities in road accidents the most are the lack of speeding. The existing literature supports these findings, as a 2020 report from the NHTSA on 2018 data reported that 26% of all traffic fatalities resulted from speeding [2]. In addition, a separate 2020 report from the NHTSA on 2018 data also reported that 17% of all traffic fatalities involved pedestrians, while 81% of these pedestrian fatalities occurred in urban areas (such as DC) [3]."
   ]
  },
  {
   "cell_type": "code",
   "execution_count": 179,
   "metadata": {},
   "outputs": [],
   "source": [
    "# Packages\n",
    "import numpy as np\n",
    "import pandas as pd\n",
    "import matplotlib.pyplot as plt\n",
    "from sklearn.preprocessing import StandardScaler\n",
    "from sklearn.preprocessing import MinMaxScaler\n",
    "from sklearn.preprocessing import LabelEncoder\n",
    "from sklearn.preprocessing import OneHotEncoder\n",
    "from imblearn.over_sampling import SMOTE\n",
    "from imblearn.under_sampling import RandomUnderSampler\n",
    "from imblearn.pipeline import Pipeline\n",
    "from sklearn.model_selection import train_test_split\n",
    "from sklearn.neural_network import MLPClassifier\n",
    "from sklearn import metrics\n",
    "from sklearn.metrics import confusion_matrix\n",
    "import seaborn as sns\n",
    "from sklearn.metrics import accuracy_score\n",
    "from sklearn.metrics import classification_report\n",
    "from sklearn.ensemble import RandomForestClassifier\n",
    "from sklearn.model_selection import cross_val_score\n",
    "from sklearn.model_selection import RepeatedStratifiedKFold\n",
    "from imblearn.ensemble import BalancedBaggingClassifier\n",
    "from sklearn.decomposition import PCA\n",
    "from sklearn.linear_model import LogisticRegression\n",
    "import seaborn as sns\n",
    "from sklearn import metrics\n",
    "from numpy import linalg as la\n",
    "import statsmodels.api as sm"
   ]
  },
  {
   "cell_type": "markdown",
   "metadata": {},
   "source": [
    "## Data Pre-Processing"
   ]
  },
  {
   "cell_type": "code",
   "execution_count": 180,
   "metadata": {},
   "outputs": [
    {
     "name": "stderr",
     "output_type": "stream",
     "text": [
      "/opt/anaconda3/lib/python3.7/site-packages/IPython/core/interactiveshell.py:3058: DtypeWarning: Columns (2) have mixed types. Specify dtype option on import or set low_memory=False.\n",
      "  interactivity=interactivity, compiler=compiler, result=result)\n"
     ]
    },
    {
     "name": "stdout",
     "output_type": "stream",
     "text": [
      "The First 5 Obs:\n",
      "\n",
      "    OBJECTID   CRIMEID       CCN  PERSONID PERSONTYPE   AGE FATAL MAJORINJURY  \\\n",
      "0  438790620  27372884  17122653  85952934     Driver  50.0     N           N   \n",
      "1  438790621  25300987  15097898  84912344  Passenger   NaN     N           N   \n",
      "2  438790622  25300987  15097898  85027329     Driver   NaN     N           N   \n",
      "3  438790623  25300987  15097898  84647216     Driver  81.0     N           N   \n",
      "4  438790624  25300987  15097898  84555310  Passenger   NaN     N           N   \n",
      "\n",
      "  MINORINJURY VEHICLEID             INVEHICLETYPE TICKETISSUED  \\\n",
      "0           N   3278008  Passenger Car/automobile            N   \n",
      "1           N    975400  Passenger Car/automobile            N   \n",
      "2           N    975399  Passenger Car/automobile            N   \n",
      "3           N    975400  Passenger Car/automobile            N   \n",
      "4           N    975400  Passenger Car/automobile            N   \n",
      "\n",
      "  LICENSEPLATESTATE IMPAIRED SPEEDING  \n",
      "0                MD        N        N  \n",
      "1                MD        N        N  \n",
      "2                DC        N        N  \n",
      "3                MD        N        N  \n",
      "4                MD        N        N  \n",
      "\n",
      "The Columns:\n",
      "\n",
      "Index(['OBJECTID', 'CRIMEID', 'CCN', 'PERSONID', 'PERSONTYPE', 'AGE', 'FATAL',\n",
      "       'MAJORINJURY', 'MINORINJURY', 'VEHICLEID', 'INVEHICLETYPE',\n",
      "       'TICKETISSUED', 'LICENSEPLATESTATE', 'IMPAIRED', 'SPEEDING'],\n",
      "      dtype='object')\n",
      "\n",
      "General Information\n",
      "\n",
      "<class 'pandas.core.frame.DataFrame'>\n",
      "RangeIndex: 596492 entries, 0 to 596491\n",
      "Data columns (total 15 columns):\n",
      "OBJECTID             596492 non-null int64\n",
      "CRIMEID              596492 non-null int64\n",
      "CCN                  596492 non-null object\n",
      "PERSONID             596492 non-null int64\n",
      "PERSONTYPE           596492 non-null object\n",
      "AGE                  426855 non-null float64\n",
      "FATAL                596492 non-null object\n",
      "MAJORINJURY          596492 non-null object\n",
      "MINORINJURY          596492 non-null object\n",
      "VEHICLEID            596492 non-null object\n",
      "INVEHICLETYPE        596492 non-null object\n",
      "TICKETISSUED         596492 non-null object\n",
      "LICENSEPLATESTATE    596492 non-null object\n",
      "IMPAIRED             596492 non-null object\n",
      "SPEEDING             596492 non-null object\n",
      "dtypes: float64(1), int64(3), object(11)\n",
      "memory usage: 68.3+ MB\n"
     ]
    }
   ],
   "source": [
    "# Load in the data\n",
    "df = pd.read_csv(\"./data/Crash_Details_Table.csv\")\n",
    "\n",
    "# First Look at the data\n",
    "print(\"The First 5 Obs:\")\n",
    "print(\"\")\n",
    "print(df.head(5))\n",
    "print(\"\")\n",
    "print(\"The Columns:\")\n",
    "print(\"\")\n",
    "print(df.columns)\n",
    "print(\"\")\n",
    "print(\"General Information\")\n",
    "print(\"\")\n",
    "df.info()"
   ]
  },
  {
   "cell_type": "markdown",
   "metadata": {},
   "source": [
    "## Exploratory Data Analysis (EDA)"
   ]
  },
  {
   "cell_type": "markdown",
   "metadata": {},
   "source": [
    "### Explore the FATAL Variable"
   ]
  },
  {
   "cell_type": "code",
   "execution_count": 181,
   "metadata": {},
   "outputs": [
    {
     "name": "stdout",
     "output_type": "stream",
     "text": [
      "N    596075\n",
      "Y       417\n",
      "Name: FATAL, dtype: int64\n"
     ]
    }
   ],
   "source": [
    "# Let's explore FATAL\n",
    "print(df['FATAL'].value_counts())"
   ]
  },
  {
   "cell_type": "markdown",
   "metadata": {},
   "source": [
    "We are dealing with extremely imbalanced data. There are very few cases in which a fatality occurred. We will have to perform some type of technique, such as SMOTE, to re-balance the data to a workable degree."
   ]
  },
  {
   "cell_type": "markdown",
   "metadata": {},
   "source": [
    "### Explore the AGE Variable"
   ]
  },
  {
   "cell_type": "code",
   "execution_count": 182,
   "metadata": {},
   "outputs": [
    {
     "data": {
      "text/plain": [
       " 0.0      13212\n",
       " 27.0     11980\n",
       " 26.0     11976\n",
       " 25.0     11912\n",
       " 28.0     11906\n",
       "          ...  \n",
       " 166.0        1\n",
       " 219.0        1\n",
       "-70.0         1\n",
       "-38.0         1\n",
       " 126.0        1\n",
       "Name: AGE, Length: 171, dtype: int64"
      ]
     },
     "execution_count": 182,
     "metadata": {},
     "output_type": "execute_result"
    }
   ],
   "source": [
    "df['AGE'].value_counts()"
   ]
  },
  {
   "cell_type": "code",
   "execution_count": 183,
   "metadata": {},
   "outputs": [
    {
     "name": "stderr",
     "output_type": "stream",
     "text": [
      "/opt/anaconda3/lib/python3.7/site-packages/numpy/lib/histograms.py:829: RuntimeWarning: invalid value encountered in greater_equal\n",
      "  keep = (tmp_a >= first_edge)\n",
      "/opt/anaconda3/lib/python3.7/site-packages/numpy/lib/histograms.py:830: RuntimeWarning: invalid value encountered in less_equal\n",
      "  keep &= (tmp_a <= last_edge)\n"
     ]
    },
    {
     "data": {
      "image/png": "[encoded data removed]",
      "text/plain": [
       "<Figure size 432x288 with 1 Axes>"
      ]
     },
     "metadata": {
      "needs_background": "light"
     },
     "output_type": "display_data"
    }
   ],
   "source": [
    "only_survived = df[df['FATAL'] == 'N']\n",
    "plt.title(\"Rough Historgram of Ages for those incidents without fatalities\")\n",
    "plt.hist(only_survived['AGE'], bins=2000)\n",
    "plt.xlim(0, 100)\n",
    "plt.xlabel(\"Age\")\n",
    "plt.ylabel(\"Number of Incidents\")\n",
    "plt.show()"
   ]
  },
  {
   "cell_type": "code",
   "execution_count": 184,
   "metadata": {},
   "outputs": [
    {
     "data": {
      "image/png": "[encoded data removed]",
      "text/plain": [
       "<Figure size 432x288 with 1 Axes>"
      ]
     },
     "metadata": {
      "needs_background": "light"
     },
     "output_type": "display_data"
    }
   ],
   "source": [
    "only_deaths = df[df['FATAL'] == 'Y']\n",
    "plt.title(\"Historgram of Ages for Those that Had Fatalities\")\n",
    "plt.hist(only_deaths['AGE'])\n",
    "plt.xlabel(\"Age\")\n",
    "plt.ylabel(\"Number of Fatalities\")\n",
    "plt.show()"
   ]
  },
  {
   "cell_type": "markdown",
   "metadata": {},
   "source": [
    "The age variable is a tad messy, so to save time I will remove it. It looks like a similar trend exists for those that had fatalities and did not have fatalities, so it may not be important. One may think that younger drivers and older drivers may have more fatalities, but that will be a question for another time due to time constraints."
   ]
  },
  {
   "cell_type": "markdown",
   "metadata": {},
   "source": [
    "### Final Variable Selection"
   ]
  },
  {
   "cell_type": "markdown",
   "metadata": {},
   "source": [
    "There are some other clear variables we can drop. OBJECTID, CRIMEID, CCN, PERSONID, VEHICLEID, and (as decided above) AGE will be dropped. There is an opportunity to try to use CRIMEID. For example, an incident that had a fatality involved may be likely to provide multiple fatalities. Yet, due to time constraints, I will not be looking into this."
   ]
  },
  {
   "cell_type": "markdown",
   "metadata": {},
   "source": [
    "That leaves 6 categorical variables as our predictors. These variables are PERSONTYPE, INVEHICLETYPE, TICKETISSUED, LICENSEPLATESTATE, IMPAIRED, and SPEEDING. I will explain each predictor below."
   ]
  },
  {
   "cell_type": "markdown",
   "metadata": {},
   "source": [
    "#### PERSONTYPE"
   ]
  },
  {
   "cell_type": "code",
   "execution_count": 185,
   "metadata": {},
   "outputs": [
    {
     "data": {
      "image/png": "[encoded data removed]",
      "text/plain": [
       "<Figure size 432x288 with 1 Axes>"
      ]
     },
     "metadata": {
      "needs_background": "light"
     },
     "output_type": "display_data"
    },
    {
     "name": "stdout",
     "output_type": "stream",
     "text": [
      "[  4140 459765 118828  13759]\n"
     ]
    }
   ],
   "source": [
    "unique, counts = np.unique(df[\"PERSONTYPE\"], return_counts=True)\n",
    "\n",
    "plt.title(\"Person Type Histogram\")\n",
    "plt.xlabel(\"Type of Person\")\n",
    "plt.ylabel(\"Counts\")\n",
    "plt.bar(unique, counts)\n",
    "plt.show()\n",
    "print(counts)"
   ]
  },
  {
   "cell_type": "markdown",
   "metadata": {},
   "source": [
    "#### In Vehicle Type"
   ]
  },
  {
   "cell_type": "code",
   "execution_count": 186,
   "metadata": {},
   "outputs": [
    {
     "data": {
      "image/png": "[encoded data removed]",
      "text/plain": [
       "<Figure size 432x288 with 1 Axes>"
      ]
     },
     "metadata": {
      "needs_background": "light"
     },
     "output_type": "display_data"
    },
    {
     "name": "stdout",
     "output_type": "stream",
     "text": [
      "[     3    170  16903   5016    767   4054    181  14225  10232   1371\n",
      "   2791    475  17545   3574  50873 402022  19297  12420      4  34134\n",
      "    427      8]\n"
     ]
    }
   ],
   "source": [
    "unique, counts = np.unique(df[\"INVEHICLETYPE\"], return_counts=True)\n",
    "\n",
    "plt.title(\"In Vehicle Type Histogram\")\n",
    "plt.xlabel(\"Type of Vehicle\")\n",
    "plt.ylabel(\"Counts\")\n",
    "plt.xticks(rotation=90)\n",
    "plt.bar(unique, counts)\n",
    "plt.show()\n",
    "print(counts)"
   ]
  },
  {
   "cell_type": "code",
   "execution_count": 187,
   "metadata": {},
   "outputs": [
    {
     "data": {
      "text/plain": [
       "Passenger Car/automobile    402022\n",
       "Other                       111716\n",
       "Larger Vehicle               82754\n",
       "Name: INVEHICLETYPE, dtype: int64"
      ]
     },
     "execution_count": 187,
     "metadata": {},
     "output_type": "execute_result"
    }
   ],
   "source": [
    "# Change the state column to have 4 values: DC, MD, VA, Other\n",
    "df.loc[~df['INVEHICLETYPE'].isin(['Bus', 'Passenger Car/automobile', 'Passenger Van', 'Pickup Truck', 'Suv (sport Utility Vehicle)']), 'INVEHICLETYPE'] = 'Other'\n",
    "df.loc[df['INVEHICLETYPE'].isin(['Bus','Passenger Van', 'Pickup Truck', 'Suv (sport Utility Vehicle)']), 'INVEHICLETYPE'] = 'Larger Vehicle'\n",
    "df['INVEHICLETYPE'].value_counts()"
   ]
  },
  {
   "cell_type": "markdown",
   "metadata": {},
   "source": [
    "#### Ticket Issued"
   ]
  },
  {
   "cell_type": "code",
   "execution_count": 188,
   "metadata": {},
   "outputs": [
    {
     "data": {
      "image/png": "[encoded data removed]",
      "text/plain": [
       "<Figure size 432x288 with 1 Axes>"
      ]
     },
     "metadata": {
      "needs_background": "light"
     },
     "output_type": "display_data"
    },
    {
     "name": "stdout",
     "output_type": "stream",
     "text": [
      "[503934  92558]\n"
     ]
    }
   ],
   "source": [
    "unique, counts = np.unique(df[\"TICKETISSUED\"], return_counts=True)\n",
    "\n",
    "plt.title(\"Ticket Issued Histogram\")\n",
    "plt.xlabel(\"Yes or No\")\n",
    "plt.ylabel(\"Counts\")\n",
    "plt.bar(unique, counts)\n",
    "plt.show()\n",
    "print(counts)"
   ]
  },
  {
   "cell_type": "markdown",
   "metadata": {},
   "source": [
    "#### License Plate State"
   ]
  },
  {
   "cell_type": "code",
   "execution_count": 189,
   "metadata": {},
   "outputs": [
    {
     "data": {
      "image/png": "[encoded data removed]",
      "text/plain": [
       "<Figure size 1440x720 with 1 Axes>"
      ]
     },
     "metadata": {
      "needs_background": "light"
     },
     "output_type": "display_data"
    },
    {
     "name": "stdout",
     "output_type": "stream",
     "text": [
      "[ 67705     60    433    127   1239      1    822    146    654 224284\n",
      "   1149   1175   3334   1651     19    132     39   1694   1035    100\n",
      "    280    304   1240 174495    337    870    201    255    180     51\n",
      "   3419     41     87    143   3021     71     76   3246   1153    527\n",
      "    127   1741    151   4341      1    153    996     30    855   1966\n",
      "   2188     72   9351  76963    173     58    393    249    779    109]\n"
     ]
    }
   ],
   "source": [
    "unique, counts = np.unique(df[\"LICENSEPLATESTATE\"], return_counts=True)\n",
    "plt.figure(figsize=(20,10))\n",
    "plt.title(\"License Plate State Histogram\")\n",
    "plt.xlabel(\"State\")\n",
    "plt.ylabel(\"Counts\")\n",
    "plt.xticks(rotation=90)\n",
    "plt.bar(unique, counts)\n",
    "plt.show()\n",
    "print(counts)"
   ]
  },
  {
   "cell_type": "code",
   "execution_count": 190,
   "metadata": {},
   "outputs": [
    {
     "data": {
      "text/plain": [
       "DC       224284\n",
       "MD       174495\n",
       "Other    120750\n",
       "VA        76963\n",
       "Name: LICENSEPLATESTATE, dtype: int64"
      ]
     },
     "execution_count": 190,
     "metadata": {},
     "output_type": "execute_result"
    }
   ],
   "source": [
    "# Change the state column to have 4 values: DC, MD, VA, Other\n",
    "df.loc[~df['LICENSEPLATESTATE'].isin(['DC', 'MD', 'VA', 'None']), 'LICENSEPLATESTATE'] = 'Other'\n",
    "df['LICENSEPLATESTATE'].value_counts()"
   ]
  },
  {
   "cell_type": "markdown",
   "metadata": {},
   "source": [
    "#### Impaired"
   ]
  },
  {
   "cell_type": "code",
   "execution_count": 191,
   "metadata": {},
   "outputs": [
    {
     "data": {
      "image/png": "[encoded data removed]",
      "text/plain": [
       "<Figure size 432x288 with 1 Axes>"
      ]
     },
     "metadata": {
      "needs_background": "light"
     },
     "output_type": "display_data"
    },
    {
     "name": "stdout",
     "output_type": "stream",
     "text": [
      "[591740   4752]\n"
     ]
    }
   ],
   "source": [
    "unique, counts = np.unique(df[\"IMPAIRED\"], return_counts=True)\n",
    "plt.title(\"Impaired Histogram\")\n",
    "plt.xlabel(\"Yes or No\")\n",
    "plt.ylabel(\"Counts\")\n",
    "plt.bar(unique, counts)\n",
    "plt.show()\n",
    "print(counts)"
   ]
  },
  {
   "cell_type": "markdown",
   "metadata": {},
   "source": [
    "#### Speeding"
   ]
  },
  {
   "cell_type": "code",
   "execution_count": 192,
   "metadata": {},
   "outputs": [
    {
     "data": {
      "image/png": "[encoded data removed]",
      "text/plain": [
       "<Figure size 432x288 with 1 Axes>"
      ]
     },
     "metadata": {
      "needs_background": "light"
     },
     "output_type": "display_data"
    },
    {
     "name": "stdout",
     "output_type": "stream",
     "text": [
      "[591929   4563]\n"
     ]
    }
   ],
   "source": [
    "unique, counts = np.unique(df[\"SPEEDING\"], return_counts=True)\n",
    "plt.title(\"Speeding Histogram\")\n",
    "plt.xlabel(\"Yes or No\")\n",
    "plt.ylabel(\"Counts\")\n",
    "plt.bar(unique, counts)\n",
    "plt.show()\n",
    "print(counts)"
   ]
  },
  {
   "cell_type": "markdown",
   "metadata": {},
   "source": [
    "From the exploration of the variables, we can see that some of them are classic Yes or No categorical variables (SPEEDING, IMPAIRED, TICKET). Others such as INVEHICLETYPE and LICENSEPLATESTATE have many different categories, of which many have very few values in each category. As such, PCA may be a good technique to get rid of the dimensionality with these likely useless categories. For expediency in this case, I combined different categories into one. This will allow us to remove multi-collinearity more easily as well."
   ]
  },
  {
   "cell_type": "markdown",
   "metadata": {},
   "source": [
    "## Labelizing the Target Variable"
   ]
  },
  {
   "cell_type": "code",
   "execution_count": 193,
   "metadata": {},
   "outputs": [
    {
     "name": "stdout",
     "output_type": "stream",
     "text": [
      "Target variable after label encoding: \n",
      "[0 0 0 ... 0 0 0]\n",
      "Class variable inverse transform: \n",
      "['N' 'N' 'N' ... 'N' 'N' 'N']\n"
     ]
    }
   ],
   "source": [
    "class_le = LabelEncoder()\n",
    "y = class_le.fit_transform(df['FATAL'])\n",
    "print(\"Target variable after label encoding: \")\n",
    "print(y)\n",
    "\n",
    "y_inv = class_le.inverse_transform(y)\n",
    "\n",
    "print(\"Class variable inverse transform: \")\n",
    "print(y_inv)"
   ]
  },
  {
   "cell_type": "markdown",
   "metadata": {},
   "source": [
    "## Dropping Unnecessary Variables and One-Hot Encoding the Predictors"
   ]
  },
  {
   "cell_type": "code",
   "execution_count": 194,
   "metadata": {},
   "outputs": [
    {
     "name": "stdout",
     "output_type": "stream",
     "text": [
      "<class 'pandas.core.frame.DataFrame'>\n",
      "RangeIndex: 596492 entries, 0 to 596491\n",
      "Data columns (total 8 columns):\n",
      "PERSONTYPE           596492 non-null object\n",
      "MAJORINJURY          596492 non-null object\n",
      "MINORINJURY          596492 non-null object\n",
      "INVEHICLETYPE        596492 non-null object\n",
      "TICKETISSUED         596492 non-null object\n",
      "LICENSEPLATESTATE    596492 non-null object\n",
      "IMPAIRED             596492 non-null object\n",
      "SPEEDING             596492 non-null object\n",
      "dtypes: object(8)\n",
      "memory usage: 36.4+ MB\n"
     ]
    }
   ],
   "source": [
    "# Drop unnecessary variables as previously identified\n",
    "df_copy = df.copy(deep=True)\n",
    "df_copy = df_copy.drop(columns=[\"OBJECTID\", \"CRIMEID\", \"CCN\", \"PERSONID\", \"VEHICLEID\", \"AGE\"])\n",
    "df_copy[['PERSONTYPE', 'INVEHICLETYPE', 'TICKETISSUED', 'LICENSEPLATESTATE', 'IMPAIRED', 'SPEEDING']] = df_copy[['PERSONTYPE', 'INVEHICLETYPE', 'TICKETISSUED', 'LICENSEPLATESTATE', 'IMPAIRED', 'SPEEDING']].apply(class_le.fit_transform)\n",
    "df_copy[['PERSONTYPE', 'INVEHICLETYPE', 'TICKETISSUED', 'LICENSEPLATESTATE', 'IMPAIRED', 'SPEEDING']] = df_copy[['PERSONTYPE', 'INVEHICLETYPE', 'TICKETISSUED', 'LICENSEPLATESTATE', 'IMPAIRED', 'SPEEDING']].astype('object')\n",
    "df_X = df_copy.drop(columns='FATAL')\n",
    "df_X.info()"
   ]
  },
  {
   "cell_type": "code",
   "execution_count": 195,
   "metadata": {},
   "outputs": [
    {
     "name": "stdout",
     "output_type": "stream",
     "text": [
      "0  [0. 1.]  [592352   4140]\n",
      "1  [0. 1.]  [136727 459765]\n",
      "2  [0. 1.]  [477664 118828]\n",
      "3  [0. 1.]  [582733  13759]\n",
      "4  [0. 1.]  [513738  82754]\n",
      "5  [0. 1.]  [484776 111716]\n",
      "6  [0. 1.]  [194470 402022]\n",
      "7  [0. 1.]  [ 92558 503934]\n",
      "8  [0. 1.]  [503934  92558]\n",
      "9  [0. 1.]  [372208 224284]\n",
      "10  [0. 1.]  [421997 174495]\n",
      "11  [0. 1.]  [475742 120750]\n",
      "12  [0. 1.]  [519529  76963]\n",
      "13  [0. 1.]  [  4752 591740]\n",
      "14  [0. 1.]  [591740   4752]\n",
      "15  [0. 1.]  [  4563 591929]\n",
      "16  [0. 1.]  [591929   4563]\n"
     ]
    }
   ],
   "source": [
    "# One-Hot Encode\n",
    "enc = OneHotEncoder(sparse=False)\n",
    "x = enc.fit_transform(df_X[['PERSONTYPE', 'INVEHICLETYPE', 'TICKETISSUED', 'LICENSEPLATESTATE', 'IMPAIRED', 'SPEEDING']])\n",
    "#print(x.shape[1])\n",
    "for i in range(0, x.shape[1]):\n",
    "    unique, counts = np.unique(x[:, i], return_counts=True)\n",
    "    print(i, \"\", unique, \"\", counts)\n",
    "cols = [\"Bicyclist\", \"Driver\", \"Passenger\", \"Pedestrian\", \"Larger Vehicle\", \"Other vehicle type\", \"Passenger Car/automobile\", \"No Ticket\", \"Yes Ticket\", \"LP-DC\", \"LP-MD\", \"LP-Other\", \"LP-VA\", \"Not Impaired\", \"Yes Impaired\", \"No Speeding\", \"Yes Speeding\"]"
   ]
  },
  {
   "cell_type": "code",
   "execution_count": 196,
   "metadata": {},
   "outputs": [
    {
     "name": "stdout",
     "output_type": "stream",
     "text": [
      "SingularValues =  [2.49449898e+06 2.29782007e+05 2.01600834e+05 1.97608122e+05\n",
      " 1.33306060e+05 1.14016692e+05 9.26337852e+04 7.89596853e+04\n",
      " 1.58790221e+04 9.01777634e+03 6.73623911e+03 4.91279558e+03\n",
      " 7.07890676e-11 3.45540112e-11 1.81400037e-11 8.66504820e-12\n",
      " 1.85288102e-12]\n"
     ]
    }
   ],
   "source": [
    "# Colinearity Detection\n",
    "H = np.matmul(x.T, x)\n",
    "_, d, _ = la.svd(H)\n",
    "print(\"SingularValues = \", d)"
   ]
  },
  {
   "cell_type": "code",
   "execution_count": 197,
   "metadata": {},
   "outputs": [
    {
     "ename": "SyntaxError",
     "evalue": "invalid syntax (<ipython-input-197-6ba78327af79>, line 1)",
     "output_type": "error",
     "traceback": [
      "\u001b[0;36m  File \u001b[0;32m\"<ipython-input-197-6ba78327af79>\"\u001b[0;36m, line \u001b[0;32m1\u001b[0m\n\u001b[0;31m    Five of the Singular Values are very close to zero, highlighting a high degree of multi-colinearity.\u001b[0m\n\u001b[0m          ^\u001b[0m\n\u001b[0;31mSyntaxError\u001b[0m\u001b[0;31m:\u001b[0m invalid syntax\n"
     ]
    }
   ],
   "source": [
    "Five of the Singular Values are very close to zero, highlighting a high degree of multi-colinearity."
   ]
  },
  {
   "cell_type": "markdown",
   "metadata": {},
   "source": [
    "## Principal Component Analysis (PCA)"
   ]
  },
  {
   "cell_type": "code",
   "execution_count": null,
   "metadata": {},
   "outputs": [],
   "source": [
    "# PCA\n",
    "# After 11, each additional feature explained < 1% of variance, so we decided we didn't need them\n",
    "pca = PCA(n_components=7)\n",
    "principalComponents = pca.fit_transform(x)\n",
    "principalDf = pd.DataFrame(data = principalComponents\n",
    "             , columns = ['principal component 1', 'principal component 2', 'principal component 3', 'principal component 4', 'principal component 5', 'principal component 6', 'principal component 7'])\n",
    "\n",
    "print(\"Explained Variance of Each Feature:\", pca.explained_variance_ratio_)\n",
    "print(\"Total Explained Variance:\", pca.explained_variance_ratio_.sum())"
   ]
  },
  {
   "cell_type": "markdown",
   "metadata": {},
   "source": [
    "PCA is neat and a useful trick for prediction tasks, but it will not allow us to identify the variables of importance in the regresssion. Therefore, I will not use it and leave it to be implemented in another analyses."
   ]
  },
  {
   "cell_type": "markdown",
   "metadata": {},
   "source": [
    "## Train-Test Split"
   ]
  },
  {
   "cell_type": "code",
   "execution_count": null,
   "metadata": {},
   "outputs": [],
   "source": [
    "X_train, X_test, y_train, y_test = train_test_split(x, y, test_size=0.15, random_state=0)\n",
    "unique, counts = np.unique(y_test, return_counts=True)\n",
    "print('Y-Test Unique', unique, \"and counts\", counts)\n",
    "unique, counts = np.unique(y_train, return_counts=True)\n",
    "plt.bar(unique, counts)\n",
    "plt.show()\n",
    "print('Y-Train Unique', unique, \"and counts\", counts)"
   ]
  },
  {
   "cell_type": "markdown",
   "metadata": {},
   "source": [
    "## SMOTE on the Training Set"
   ]
  },
  {
   "cell_type": "code",
   "execution_count": null,
   "metadata": {},
   "outputs": [],
   "source": [
    "### PERFORM SAMPLING AND SMOTE TO BALANCE ###\n",
    "# https://machinelearningmastery.com/smote-oversampling-for-imbalanced-classification/\n",
    "over = SMOTE(random_state=1, sampling_strategy=0.1)\n",
    "under = RandomUnderSampler(sampling_strategy=0.4)\n",
    "steps = [('o', over), ('u', under)]\n",
    "pipeline = Pipeline(steps=steps)\n",
    "# transform the dataset\n",
    "X_train, y_train = pipeline.fit_resample(X_train, y_train)\n",
    "unique, counts = np.unique(y_train, return_counts=True)\n",
    "\n",
    "plt.bar(unique, counts)\n",
    "plt.show()\n"
   ]
  },
  {
   "cell_type": "markdown",
   "metadata": {},
   "source": [
    "The SMOTE process significantly re-balanced the data. The data is still unbalanced, but that is ok. Now, there are much more than only 363 FATAL=='Y' data points on the training set."
   ]
  },
  {
   "cell_type": "markdown",
   "metadata": {},
   "source": [
    "## Logit Model"
   ]
  },
  {
   "cell_type": "code",
   "execution_count": 198,
   "metadata": {},
   "outputs": [],
   "source": [
    "# Perform Logit Regression\n",
    "# Based on below website: https://towardsdatascience.com/logistic-regression-using-python-sklearn-numpy-mnist-handwriting-recognition-matplotlib-a6b31e2b166a\n",
    "logisticRegr = LogisticRegression()\n",
    "logisticRegr.fit(X_train, y_train)\n",
    "predictions = logisticRegr.predict(X_test)"
   ]
  },
  {
   "cell_type": "code",
   "execution_count": 199,
   "metadata": {},
   "outputs": [
    {
     "name": "stdout",
     "output_type": "stream",
     "text": [
      "Accuracy: 96.34 %\n",
      "[[86173  3247]\n",
      " [   29    25]]\n",
      "\n",
      "              precision    recall  f1-score   support\n",
      "\n",
      "           0       1.00      0.96      0.98     89420\n",
      "           1       0.01      0.46      0.02        54\n",
      "\n",
      "    accuracy                           0.96     89474\n",
      "   macro avg       0.50      0.71      0.50     89474\n",
      "weighted avg       1.00      0.96      0.98     89474\n",
      "\n",
      "\n",
      "F1 Score: 0.015033072760072158\n"
     ]
    },
    {
     "data": {
      "image/png": "[encoded data removed]",
      "text/plain": [
       "<Figure size 648x648 with 2 Axes>"
      ]
     },
     "metadata": {
      "needs_background": "light"
     },
     "output_type": "display_data"
    }
   ],
   "source": [
    "# Metrics to analyze model performance\n",
    "score = logisticRegr.score(X_test, y_test)\n",
    "print(\"Accuracy:\", round(score*100, 2), \"%\")\n",
    "# Confusion Matrix\n",
    "cm = metrics.confusion_matrix(y_test, predictions)\n",
    "print(cm)\n",
    "# Visualize\n",
    "plt.figure(figsize=(9,9))\n",
    "sns.heatmap(cm, annot=True, fmt=\".3f\", linewidths=.5, square = True, cmap = 'Blues_r');\n",
    "plt.ylabel('Actual label');\n",
    "plt.xlabel('Predicted label');\n",
    "all_sample_title = 'Accuracy Score: {0}'.format(score)\n",
    "plt.title(all_sample_title, size = 15);\n",
    "# Metrics\n",
    "print(\"\")\n",
    "cfrp = classification_report(y_test, predictions)\n",
    "print(cfrp)\n",
    "print(\"\")\n",
    "print(\"F1 Score:\", metrics.f1_score(y_test, predictions))\n"
   ]
  },
  {
   "cell_type": "code",
   "execution_count": 200,
   "metadata": {},
   "outputs": [
    {
     "data": {
      "text/html": [
       "<div>\n",
       "<style scoped>\n",
       "    .dataframe tbody tr th:only-of-type {\n",
       "        vertical-align: middle;\n",
       "    }\n",
       "\n",
       "    .dataframe tbody tr th {\n",
       "        vertical-align: top;\n",
       "    }\n",
       "\n",
       "    .dataframe thead th {\n",
       "        text-align: right;\n",
       "    }\n",
       "</style>\n",
       "<table border=\"1\" class=\"dataframe\">\n",
       "  <thead>\n",
       "    <tr style=\"text-align: right;\">\n",
       "      <th></th>\n",
       "      <th>coef</th>\n",
       "    </tr>\n",
       "  </thead>\n",
       "  <tbody>\n",
       "    <tr>\n",
       "      <td>Yes Speeding</td>\n",
       "      <td>1.797223</td>\n",
       "    </tr>\n",
       "    <tr>\n",
       "      <td>Pedestrian</td>\n",
       "      <td>1.303343</td>\n",
       "    </tr>\n",
       "    <tr>\n",
       "      <td>Other vehicle type</td>\n",
       "      <td>0.602424</td>\n",
       "    </tr>\n",
       "    <tr>\n",
       "      <td>No Ticket</td>\n",
       "      <td>0.428419</td>\n",
       "    </tr>\n",
       "    <tr>\n",
       "      <td>Not Impaired</td>\n",
       "      <td>0.289557</td>\n",
       "    </tr>\n",
       "    <tr>\n",
       "      <td>Bicyclist</td>\n",
       "      <td>0.195126</td>\n",
       "    </tr>\n",
       "    <tr>\n",
       "      <td>LP-DC</td>\n",
       "      <td>0.167905</td>\n",
       "    </tr>\n",
       "    <tr>\n",
       "      <td>LP-Other</td>\n",
       "      <td>0.057607</td>\n",
       "    </tr>\n",
       "    <tr>\n",
       "      <td>LP-VA</td>\n",
       "      <td>0.037227</td>\n",
       "    </tr>\n",
       "    <tr>\n",
       "      <td>LP-MD</td>\n",
       "      <td>-0.027977</td>\n",
       "    </tr>\n",
       "    <tr>\n",
       "      <td>Yes Impaired</td>\n",
       "      <td>-0.054796</td>\n",
       "    </tr>\n",
       "    <tr>\n",
       "      <td>Passenger Car/automobile</td>\n",
       "      <td>-0.113162</td>\n",
       "    </tr>\n",
       "    <tr>\n",
       "      <td>Yes Ticket</td>\n",
       "      <td>-0.193657</td>\n",
       "    </tr>\n",
       "    <tr>\n",
       "      <td>Larger Vehicle</td>\n",
       "      <td>-0.254501</td>\n",
       "    </tr>\n",
       "    <tr>\n",
       "      <td>Passenger</td>\n",
       "      <td>-0.427047</td>\n",
       "    </tr>\n",
       "    <tr>\n",
       "      <td>Driver</td>\n",
       "      <td>-0.836660</td>\n",
       "    </tr>\n",
       "    <tr>\n",
       "      <td>No Speeding</td>\n",
       "      <td>-1.562462</td>\n",
       "    </tr>\n",
       "  </tbody>\n",
       "</table>\n",
       "</div>"
      ],
      "text/plain": [
       "                              coef\n",
       "Yes Speeding              1.797223\n",
       "Pedestrian                1.303343\n",
       "Other vehicle type        0.602424\n",
       "No Ticket                 0.428419\n",
       "Not Impaired              0.289557\n",
       "Bicyclist                 0.195126\n",
       "LP-DC                     0.167905\n",
       "LP-Other                  0.057607\n",
       "LP-VA                     0.037227\n",
       "LP-MD                    -0.027977\n",
       "Yes Impaired             -0.054796\n",
       "Passenger Car/automobile -0.113162\n",
       "Yes Ticket               -0.193657\n",
       "Larger Vehicle           -0.254501\n",
       "Passenger                -0.427047\n",
       "Driver                   -0.836660\n",
       "No Speeding              -1.562462"
      ]
     },
     "execution_count": 200,
     "metadata": {},
     "output_type": "execute_result"
    }
   ],
   "source": [
    "# Analyze the coefficients\n",
    "log_odds = logisticRegr.coef_[0]\n",
    "pd.DataFrame(log_odds, \n",
    "             cols, \n",
    "             columns=['coef'])\\\n",
    "            .sort_values(by='coef', ascending=False)\n"
   ]
  },
  {
   "cell_type": "markdown",
   "metadata": {},
   "source": [
    "I did not have time to check p-values, etc. (as there is multi-colinearity, as identified above, but one can see that the most important variable is Speeding. If speeding occurs, that significantly increases the probability that a fatality will occur. If speeding doesn't occur, that decreases the probability that a fatality will occur. In addition, being a pedestrain and having a non-traditional vehicle type make it more likely for accidents to occur. This makes sense."
   ]
  },
  {
   "cell_type": "markdown",
   "metadata": {},
   "source": [
    "## Random Forest Model"
   ]
  },
  {
   "cell_type": "code",
   "execution_count": 201,
   "metadata": {},
   "outputs": [
    {
     "name": "stdout",
     "output_type": "stream",
     "text": [
      "Confusion Matrix\n",
      "[[86004  3416]\n",
      " [   28    26]]\n",
      "\n",
      "              precision    recall  f1-score   support\n",
      "\n",
      "           0       1.00      0.96      0.98     89420\n",
      "           1       0.01      0.48      0.01        54\n",
      "\n",
      "    accuracy                           0.96     89474\n",
      "   macro avg       0.50      0.72      0.50     89474\n",
      "weighted avg       1.00      0.96      0.98     89474\n",
      "\n",
      "\n",
      "F1 Score: 0.014874141876430205\n"
     ]
    },
    {
     "data": {
      "image/png": "[encoded data removed]",
      "text/plain": [
       "<Figure size 648x648 with 2 Axes>"
      ]
     },
     "metadata": {
      "needs_background": "light"
     },
     "output_type": "display_data"
    }
   ],
   "source": [
    "rfc = RandomForestClassifier(n_estimators=50).fit(X_train, y_train.flatten())\n",
    "y_pred = rfc.predict(X_test)\n",
    "\n",
    "print(\"Confusion Matrix\")\n",
    "cmx_MLP = confusion_matrix(y_test, y_pred)\n",
    "print(cmx_MLP)\n",
    "# Visualize\n",
    "plt.figure(figsize=(9,9))\n",
    "sns.heatmap(cmx_MLP, annot=True, fmt=\".3f\", linewidths=.5, square = True, cmap = 'Blues_r');\n",
    "plt.ylabel('Actual label');\n",
    "plt.xlabel('Predicted label');\n",
    "all_sample_title = 'Accuracy Score: {0}'.format(score)\n",
    "plt.title(all_sample_title, size = 15);\n",
    "print(\"\")\n",
    "cfrp = classification_report(y_test, y_pred)\n",
    "print(cfrp)\n",
    "print(\"\")\n",
    "print(\"F1 Score:\", metrics.f1_score(y_test, y_pred))\n"
   ]
  },
  {
   "cell_type": "code",
   "execution_count": 202,
   "metadata": {},
   "outputs": [
    {
     "name": "stdout",
     "output_type": "stream",
     "text": [
      "Feature: 0, Score: 0.00526 Bicyclist\n",
      "Feature: 1, Score: 0.07294 Driver\n",
      "Feature: 2, Score: 0.02461 Passenger\n",
      "Feature: 3, Score: 0.19253 Pedestrian\n",
      "Feature: 4, Score: 0.03405 Larger Vehicle\n",
      "Feature: 5, Score: 0.10600 Other vehicle type\n",
      "Feature: 6, Score: 0.05504 Passenger Car/automobile\n",
      "Feature: 7, Score: 0.04996 No Ticket\n",
      "Feature: 8, Score: 0.04781 Yes Ticket\n",
      "Feature: 9, Score: 0.03577 LP-DC\n",
      "Feature: 10, Score: 0.03191 LP-MD\n",
      "Feature: 11, Score: 0.07700 LP-Other\n",
      "Feature: 12, Score: 0.02508 LP-VA\n",
      "Feature: 13, Score: 0.00655 Not Impaired\n",
      "Feature: 14, Score: 0.00609 Yes Impaired\n",
      "Feature: 15, Score: 0.12262 No Speeding\n",
      "Feature: 16, Score: 0.10678 Yes Speeding\n"
     ]
    },
    {
     "data": {
      "image/png": "[encoded data removed]",
      "text/plain": [
       "<Figure size 432x288 with 1 Axes>"
      ]
     },
     "metadata": {
      "needs_background": "light"
     },
     "output_type": "display_data"
    },
    {
     "name": "stdout",
     "output_type": "stream",
     "text": [
      "\n"
     ]
    }
   ],
   "source": [
    "# Feautre Importance\n",
    "importance = rfc.feature_importances_\n",
    "# summarize feature importance\n",
    "for i,v in enumerate(importance):\n",
    "\tprint('Feature: %0d, Score: %.5f' % (i,v), cols[i])\n",
    "# plot feature importance\n",
    "plt.bar([x for x in range(len(importance))], importance)\n",
    "plt.show()\n",
    "print()"
   ]
  },
  {
   "cell_type": "markdown",
   "metadata": {},
   "source": [
    "The Random Forest Feature Importance identifier tells a similar story. The most important variables to the model are being a pedestrian, having an \"Other Vehicle Type\", and both Yes and No Speeding. This shows the important variables to predicting fatalities."
   ]
  },
  {
   "cell_type": "markdown",
   "metadata": {},
   "source": [
    "## Accuracy Metrics for Logit and Random Forest"
   ]
  },
  {
   "cell_type": "markdown",
   "metadata": {},
   "source": [
    "The confusion matrices are almost identical between both models and the accuracy rate of 96% is also very similar among both models. Yet, this is not hard to acheive on a severly imbalanced dataset. The issue is that the F1-value on both datasets is extremely low (.01). This indicates that the models are not doing well to balance itself. As a result, I need to go back, fix the multi-collinearity issues by dropping unnecessary variables and try to find the best model. I will try that below."
   ]
  },
  {
   "cell_type": "markdown",
   "metadata": {},
   "source": [
    "## Model with only most important features"
   ]
  },
  {
   "cell_type": "code",
   "execution_count": 203,
   "metadata": {},
   "outputs": [
    {
     "name": "stdout",
     "output_type": "stream",
     "text": [
      "['Bicyclist', 'Driver', 'Passenger', 'Pedestrian', 'Larger Vehicle', 'Other vehicle type', 'Passenger Car/automobile', 'No Ticket', 'Yes Ticket', 'LP-DC', 'LP-MD', 'LP-Other', 'LP-VA', 'Not Impaired', 'Yes Impaired', 'No Speeding', 'Yes Speeding']\n"
     ]
    }
   ],
   "source": [
    "print(cols)"
   ]
  },
  {
   "cell_type": "code",
   "execution_count": 204,
   "metadata": {},
   "outputs": [
    {
     "name": "stdout",
     "output_type": "stream",
     "text": [
      "(177327, 4)\n"
     ]
    }
   ],
   "source": [
    "# Only keep the 4 most important vars\n",
    "new_x_train = np.delete(X_train, [0,1, 2, 4, 6, 7, 8, 9, 10, 11, 12, 13, 14], axis=1)\n",
    "print(new_x_train.shape)\n",
    "new_x_test = np.delete(X_test, [0,1, 2, 4, 6, 7, 8, 9, 10, 11, 12, 13, 14], axis=1)\n"
   ]
  },
  {
   "cell_type": "code",
   "execution_count": 205,
   "metadata": {},
   "outputs": [
    {
     "name": "stdout",
     "output_type": "stream",
     "text": [
      "Confusion Matrix\n",
      "[[86792  2628]\n",
      " [   30    24]]\n",
      "\n",
      "              precision    recall  f1-score   support\n",
      "\n",
      "           0       1.00      0.97      0.98     89420\n",
      "           1       0.01      0.44      0.02        54\n",
      "\n",
      "    accuracy                           0.97     89474\n",
      "   macro avg       0.50      0.71      0.50     89474\n",
      "weighted avg       1.00      0.97      0.98     89474\n",
      "\n",
      "\n",
      "F1 Score: 0.01773835920177384\n"
     ]
    },
    {
     "data": {
      "image/png": "[encoded data removed]",
      "text/plain": [
       "<Figure size 648x648 with 2 Axes>"
      ]
     },
     "metadata": {
      "needs_background": "light"
     },
     "output_type": "display_data"
    }
   ],
   "source": [
    "# New Random Forest Model\n",
    "rfc = RandomForestClassifier(n_estimators=50).fit(new_x_train, y_train.flatten())\n",
    "y_pred = rfc.predict(new_x_test)\n",
    "\n",
    "print(\"Confusion Matrix\")\n",
    "cmx_MLP = confusion_matrix(y_test, y_pred)\n",
    "print(cmx_MLP)\n",
    "# Visualize\n",
    "plt.figure(figsize=(9,9))\n",
    "sns.heatmap(cmx_MLP, annot=True, fmt=\".3f\", linewidths=.5, square = True, cmap = 'Blues_r');\n",
    "plt.ylabel('Actual label');\n",
    "plt.xlabel('Predicted label');\n",
    "all_sample_title = 'Accuracy Score: {0}'.format(score)\n",
    "plt.title(all_sample_title, size = 15);\n",
    "print(\"\")\n",
    "cfrp = classification_report(y_test, y_pred)\n",
    "print(cfrp)\n",
    "print(\"\")\n",
    "print(\"F1 Score:\", metrics.f1_score(y_test, y_pred))"
   ]
  },
  {
   "cell_type": "code",
   "execution_count": 206,
   "metadata": {},
   "outputs": [
    {
     "name": "stdout",
     "output_type": "stream",
     "text": [
      "Feature: 0, Score: 0.44452\n",
      "Feature: 1, Score: 0.21665\n",
      "Feature: 2, Score: 0.15908\n",
      "Feature: 3, Score: 0.17975\n"
     ]
    },
    {
     "data": {
      "image/png": "[encoded data removed]",
      "text/plain": [
       "<Figure size 432x288 with 1 Axes>"
      ]
     },
     "metadata": {
      "needs_background": "light"
     },
     "output_type": "display_data"
    },
    {
     "name": "stdout",
     "output_type": "stream",
     "text": [
      "\n"
     ]
    }
   ],
   "source": [
    "# Feautre Importance\n",
    "importance = rfc.feature_importances_\n",
    "# summarize feature importance\n",
    "for i,v in enumerate(importance):\n",
    "\tprint('Feature: %0d, Score: %.5f' % (i,v))\n",
    "# plot feature importance\n",
    "plt.bar([x for x in range(len(importance))], importance)\n",
    "plt.show()\n",
    "print()"
   ]
  },
  {
   "cell_type": "markdown",
   "metadata": {},
   "source": [
    "The F1 score did not improve much sadly. I have run out of time for new testing, so I will have to spend more time on another iteration to work on improving the F1 Score."
   ]
  },
  {
   "cell_type": "markdown",
   "metadata": {},
   "source": [
    "## Conclusions"
   ]
  },
  {
   "cell_type": "markdown",
   "metadata": {},
   "source": [
    "The conclusions, as confirmed by both the Random Forest and Logit models, are that speeding, whether a pedestrian is involved in an incident, and the presence of an alternative vehicle, such as farm/construction equipment, a motorcycle, and others, all contribute to a higher chance of there being a fatality in a road incident. On the contrary, the lack of speeding contributes to a lowered chance of there being a fatality in a road incident. Local policy makers interested in lowering the fatalities from road incidents should focus on speed limits and speed enforcement (as much as driver's like myself may hate speed limits), increased pedestrian safety, and more awareness for drivers of alternative vehicles of the extra danger they carry.\n",
    "\n",
    "Given more time, I would like to improve my models by doing more feature selection and doing some cross-validation to tune the hyperparameters for the Random Forest model. In addition, I would like to try some Deep Learning approaches to this problem and see if they may yield a greater F1 score."
   ]
  },
  {
   "cell_type": "markdown",
   "metadata": {},
   "source": [
    "## References"
   ]
  },
  {
   "cell_type": "markdown",
   "metadata": {},
   "source": [
    "[1] https://crashstats.nhtsa.dot.gov/Api/Public/ViewPublication/813060 \\\n",
    "[2] https://crashstats.nhtsa.dot.gov/Api/Public/ViewPublication/812932 \\\n",
    "[3] https://crashstats.nhtsa.dot.gov/Api/Public/ViewPublication/812850"
   ]
  },
  {
   "cell_type": "code",
   "execution_count": null,
   "metadata": {},
   "outputs": [],
   "source": []
  }
 ],
 "metadata": {
  "kernelspec": {
   "display_name": "Python 3",
   "language": "python",
   "name": "python3"
  },
  "language_info": {
   "codemirror_mode": {
    "name": "ipython",
    "version": 3
   },
   "file_extension": ".py",
   "mimetype": "text/x-python",
   "name": "python",
   "nbconvert_exporter": "python",
   "pygments_lexer": "ipython3",
   "version": "3.7.4"
  }
 },
 "nbformat": 4,
 "nbformat_minor": 1
}
